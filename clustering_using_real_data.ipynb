{
 "cells": [
  {
   "cell_type": "markdown",
   "metadata": {},
   "source": [
    "# Get and store all info from train-0.tfrecord "
   ]
  },
  {
   "cell_type": "code",
   "execution_count": 17,
   "metadata": {
    "collapsed": false
   },
   "outputs": [],
   "source": [
    "import tensorflow as tf\n",
    "import pandas as pd\n",
    "import numpy as np\n",
    "label_mapping = pd.Series.from_csv('label_names.csv',header=0).to_dict()\n",
    "n = len(label_mapping)\n",
    "\n",
    "video_lvl_record = \"train-0.tfrecord\"\n",
    "\n",
    "vid_ids = []\n",
    "labels = []\n",
    "labels_for_MLP = []\n",
    "mean_rgb = []\n",
    "mean_audio = []\n",
    "\n",
    "textual_labels = []\n",
    "textual_labels_nested = []\n",
    "\n",
    "# i=0\n",
    "\n",
    "for example in tf.python_io.tf_record_iterator(video_lvl_record):\n",
    "    tf_example = tf.train.Example.FromString(example) # get visualized TFRecord\n",
    "    vid_ids.append(tf_example.features.feature['video_id'].bytes_list.value[0].decode(encoding='UTF-8'))\n",
    "    \n",
    "    array = np.zeros(n)\n",
    "    tmp_labels=tf_example.features.feature['labels'].int64_list.value\n",
    "    tmp_labels_after_pp = []\n",
    "    for x in tmp_labels:\n",
    "        if x<4716:\n",
    "            tmp_labels_after_pp.append(x)\n",
    "    labels.append(tmp_labels_after_pp)\n",
    "    array[tmp_labels]=1\n",
    "    labels_for_MLP.append(array)\n",
    "\n",
    "    label_example_textual = [label_mapping[x] for x in tmp_labels]\n",
    "    textual_labels_nested.append(set(label_example_textual))\n",
    "    textual_labels = textual_labels + label_example_textual\n",
    "    \n",
    "    mean_rgb.append(tf_example.features.feature['mean_rgb'].float_list.value)\n",
    "    mean_audio.append(tf_example.features.feature['mean_audio'].float_list.value)\n"
   ]
  },
  {
   "cell_type": "markdown",
   "metadata": {},
   "source": [
    "# Get distance(1-correlation) matrix for all labels"
   ]
  },
  {
   "cell_type": "code",
   "execution_count": 27,
   "metadata": {
    "collapsed": false
   },
   "outputs": [],
   "source": [
    "def grouped_data_for(l):\n",
    "    # wrap the grouped data into dataframe, since the inner is pd.Series, not what we need\n",
    "    l_with_c = pd.DataFrame(\n",
    "        pd.DataFrame({'label': l}).groupby('label').size().rename('n')\n",
    "    ).sort_values('n', ascending=False).reset_index()\n",
    "    return l_with_c\n",
    "\n",
    "textual_labels_with_counts_all = grouped_data_for(textual_labels)\n",
    "top_50_labels = list(textual_labels_with_counts_all['label'][0:50].values)\n",
    "\n",
    "# get all unique labels\n",
    "all_unique_labels = list(textual_labels_with_counts_all['label'].values)"
   ]
  },
  {
   "cell_type": "code",
   "execution_count": 135,
   "metadata": {
    "collapsed": false
   },
   "outputs": [],
   "source": [
    "K_labels = []\n",
    "\n",
    "for i in all_unique_labels: #top_50_labels:\n",
    "    row = []\n",
    "    for j in all_unique_labels: #top_50_labels:\n",
    "        # find all records that have label `i` in them\n",
    "        i_occurs = [x for x in textual_labels_nested if i in x]\n",
    "        # how often does j occur in total in them?\n",
    "        j_and_i_occurs = [x for x in i_occurs if j in x]\n",
    "        k = 1.0*len(j_and_i_occurs)/len(i_occurs)\n",
    "        row.append(k)\n",
    "    K_labels.append(row)\n"
   ]
  },
  {
   "cell_type": "code",
   "execution_count": 136,
   "metadata": {
    "collapsed": false
   },
   "outputs": [
    {
     "data": {
      "text/html": [
       "<div>\n",
       "<table border=\"1\" class=\"dataframe\">\n",
       "  <thead>\n",
       "    <tr style=\"text-align: right;\">\n",
       "      <th></th>\n",
       "      <th>Games</th>\n",
       "      <th>Vehicle</th>\n",
       "      <th>Concert</th>\n",
       "      <th>Video game</th>\n",
       "      <th>Dance</th>\n",
       "      <th>Musician</th>\n",
       "      <th>Car</th>\n",
       "      <th>Animation</th>\n",
       "      <th>Football</th>\n",
       "      <th>Food</th>\n",
       "      <th>...</th>\n",
       "      <th>Hand-to-hand combat</th>\n",
       "      <th>Grape</th>\n",
       "      <th>Green Arrow</th>\n",
       "      <th>Guitar Center</th>\n",
       "      <th>Hair coloring</th>\n",
       "      <th>Hair iron</th>\n",
       "      <th>Hair roller</th>\n",
       "      <th>Half-Life</th>\n",
       "      <th>Halo 3: ODST</th>\n",
       "      <th>Škoda Octavia</th>\n",
       "    </tr>\n",
       "  </thead>\n",
       "  <tbody>\n",
       "    <tr>\n",
       "      <th>Games</th>\n",
       "      <td>1.000000</td>\n",
       "      <td>0.056995</td>\n",
       "      <td>0.000000</td>\n",
       "      <td>0.492228</td>\n",
       "      <td>0.010363</td>\n",
       "      <td>0.000000</td>\n",
       "      <td>0.036269</td>\n",
       "      <td>0.051813</td>\n",
       "      <td>0.202073</td>\n",
       "      <td>0.005181</td>\n",
       "      <td>...</td>\n",
       "      <td>0.0</td>\n",
       "      <td>0.0</td>\n",
       "      <td>0.005181</td>\n",
       "      <td>0.0</td>\n",
       "      <td>0.0</td>\n",
       "      <td>0.0</td>\n",
       "      <td>0.0</td>\n",
       "      <td>0.005181</td>\n",
       "      <td>0.005181</td>\n",
       "      <td>0.000000</td>\n",
       "    </tr>\n",
       "    <tr>\n",
       "      <th>Vehicle</th>\n",
       "      <td>0.076389</td>\n",
       "      <td>1.000000</td>\n",
       "      <td>0.000000</td>\n",
       "      <td>0.076389</td>\n",
       "      <td>0.000000</td>\n",
       "      <td>0.000000</td>\n",
       "      <td>0.555556</td>\n",
       "      <td>0.013889</td>\n",
       "      <td>0.000000</td>\n",
       "      <td>0.000000</td>\n",
       "      <td>...</td>\n",
       "      <td>0.0</td>\n",
       "      <td>0.0</td>\n",
       "      <td>0.000000</td>\n",
       "      <td>0.0</td>\n",
       "      <td>0.0</td>\n",
       "      <td>0.0</td>\n",
       "      <td>0.0</td>\n",
       "      <td>0.000000</td>\n",
       "      <td>0.000000</td>\n",
       "      <td>0.006944</td>\n",
       "    </tr>\n",
       "    <tr>\n",
       "      <th>Concert</th>\n",
       "      <td>0.000000</td>\n",
       "      <td>0.000000</td>\n",
       "      <td>1.000000</td>\n",
       "      <td>0.000000</td>\n",
       "      <td>0.078740</td>\n",
       "      <td>0.440945</td>\n",
       "      <td>0.000000</td>\n",
       "      <td>0.000000</td>\n",
       "      <td>0.000000</td>\n",
       "      <td>0.000000</td>\n",
       "      <td>...</td>\n",
       "      <td>0.0</td>\n",
       "      <td>0.0</td>\n",
       "      <td>0.000000</td>\n",
       "      <td>0.0</td>\n",
       "      <td>0.0</td>\n",
       "      <td>0.0</td>\n",
       "      <td>0.0</td>\n",
       "      <td>0.000000</td>\n",
       "      <td>0.000000</td>\n",
       "      <td>0.000000</td>\n",
       "    </tr>\n",
       "    <tr>\n",
       "      <th>Video game</th>\n",
       "      <td>0.871560</td>\n",
       "      <td>0.100917</td>\n",
       "      <td>0.000000</td>\n",
       "      <td>1.000000</td>\n",
       "      <td>0.000000</td>\n",
       "      <td>0.000000</td>\n",
       "      <td>0.073394</td>\n",
       "      <td>0.055046</td>\n",
       "      <td>0.018349</td>\n",
       "      <td>0.000000</td>\n",
       "      <td>...</td>\n",
       "      <td>0.0</td>\n",
       "      <td>0.0</td>\n",
       "      <td>0.009174</td>\n",
       "      <td>0.0</td>\n",
       "      <td>0.0</td>\n",
       "      <td>0.0</td>\n",
       "      <td>0.0</td>\n",
       "      <td>0.009174</td>\n",
       "      <td>0.009174</td>\n",
       "      <td>0.000000</td>\n",
       "    </tr>\n",
       "    <tr>\n",
       "      <th>Dance</th>\n",
       "      <td>0.024691</td>\n",
       "      <td>0.000000</td>\n",
       "      <td>0.123457</td>\n",
       "      <td>0.000000</td>\n",
       "      <td>1.000000</td>\n",
       "      <td>0.024691</td>\n",
       "      <td>0.000000</td>\n",
       "      <td>0.012346</td>\n",
       "      <td>0.000000</td>\n",
       "      <td>0.000000</td>\n",
       "      <td>...</td>\n",
       "      <td>0.0</td>\n",
       "      <td>0.0</td>\n",
       "      <td>0.000000</td>\n",
       "      <td>0.0</td>\n",
       "      <td>0.0</td>\n",
       "      <td>0.0</td>\n",
       "      <td>0.0</td>\n",
       "      <td>0.000000</td>\n",
       "      <td>0.000000</td>\n",
       "      <td>0.000000</td>\n",
       "    </tr>\n",
       "  </tbody>\n",
       "</table>\n",
       "<p>5 rows × 943 columns</p>\n",
       "</div>"
      ],
      "text/plain": [
       "               Games   Vehicle   Concert  Video game     Dance  Musician  \\\n",
       "Games       1.000000  0.056995  0.000000    0.492228  0.010363  0.000000   \n",
       "Vehicle     0.076389  1.000000  0.000000    0.076389  0.000000  0.000000   \n",
       "Concert     0.000000  0.000000  1.000000    0.000000  0.078740  0.440945   \n",
       "Video game  0.871560  0.100917  0.000000    1.000000  0.000000  0.000000   \n",
       "Dance       0.024691  0.000000  0.123457    0.000000  1.000000  0.024691   \n",
       "\n",
       "                 Car  Animation  Football      Food      ...        \\\n",
       "Games       0.036269   0.051813  0.202073  0.005181      ...         \n",
       "Vehicle     0.555556   0.013889  0.000000  0.000000      ...         \n",
       "Concert     0.000000   0.000000  0.000000  0.000000      ...         \n",
       "Video game  0.073394   0.055046  0.018349  0.000000      ...         \n",
       "Dance       0.000000   0.012346  0.000000  0.000000      ...         \n",
       "\n",
       "            Hand-to-hand combat  Grape  Green Arrow  Guitar Center  \\\n",
       "Games                       0.0    0.0     0.005181            0.0   \n",
       "Vehicle                     0.0    0.0     0.000000            0.0   \n",
       "Concert                     0.0    0.0     0.000000            0.0   \n",
       "Video game                  0.0    0.0     0.009174            0.0   \n",
       "Dance                       0.0    0.0     0.000000            0.0   \n",
       "\n",
       "            Hair coloring  Hair iron  Hair roller  Half-Life  Halo 3: ODST  \\\n",
       "Games                 0.0        0.0          0.0   0.005181      0.005181   \n",
       "Vehicle               0.0        0.0          0.0   0.000000      0.000000   \n",
       "Concert               0.0        0.0          0.0   0.000000      0.000000   \n",
       "Video game            0.0        0.0          0.0   0.009174      0.009174   \n",
       "Dance                 0.0        0.0          0.0   0.000000      0.000000   \n",
       "\n",
       "            Škoda Octavia  \n",
       "Games            0.000000  \n",
       "Vehicle          0.006944  \n",
       "Concert          0.000000  \n",
       "Video game       0.000000  \n",
       "Dance            0.000000  \n",
       "\n",
       "[5 rows x 943 columns]"
      ]
     },
     "execution_count": 136,
     "metadata": {},
     "output_type": "execute_result"
    }
   ],
   "source": [
    "K_labels = np.array(K_labels)\n",
    "K_labels = pd.DataFrame(K_labels)\n",
    "K_labels.columns = all_unique_labels\n",
    "K_labels.index = all_unique_labels\n",
    "K_labels.head()\n"
   ]
  },
  {
   "cell_type": "code",
   "execution_count": 137,
   "metadata": {
    "collapsed": false
   },
   "outputs": [
    {
     "data": {
      "text/html": [
       "<div>\n",
       "<table border=\"1\" class=\"dataframe\">\n",
       "  <thead>\n",
       "    <tr style=\"text-align: right;\">\n",
       "      <th></th>\n",
       "      <th>Games</th>\n",
       "      <th>Vehicle</th>\n",
       "      <th>Concert</th>\n",
       "      <th>Video game</th>\n",
       "      <th>Dance</th>\n",
       "      <th>Musician</th>\n",
       "      <th>Car</th>\n",
       "      <th>Animation</th>\n",
       "      <th>Football</th>\n",
       "      <th>Food</th>\n",
       "      <th>...</th>\n",
       "      <th>Hand-to-hand combat</th>\n",
       "      <th>Grape</th>\n",
       "      <th>Green Arrow</th>\n",
       "      <th>Guitar Center</th>\n",
       "      <th>Hair coloring</th>\n",
       "      <th>Hair iron</th>\n",
       "      <th>Hair roller</th>\n",
       "      <th>Half-Life</th>\n",
       "      <th>Halo 3: ODST</th>\n",
       "      <th>Škoda Octavia</th>\n",
       "    </tr>\n",
       "  </thead>\n",
       "  <tbody>\n",
       "    <tr>\n",
       "      <th>Games</th>\n",
       "      <td>0.000000</td>\n",
       "      <td>0.933308</td>\n",
       "      <td>1.000000</td>\n",
       "      <td>0.318106</td>\n",
       "      <td>0.982473</td>\n",
       "      <td>1.000000</td>\n",
       "      <td>0.938655</td>\n",
       "      <td>0.899466</td>\n",
       "      <td>0.607919</td>\n",
       "      <td>0.987205</td>\n",
       "      <td>...</td>\n",
       "      <td>1.0</td>\n",
       "      <td>1.0</td>\n",
       "      <td>0.497409</td>\n",
       "      <td>1.0</td>\n",
       "      <td>1.0</td>\n",
       "      <td>1.0</td>\n",
       "      <td>1.0</td>\n",
       "      <td>0.497409</td>\n",
       "      <td>0.497409</td>\n",
       "      <td>1.000000</td>\n",
       "    </tr>\n",
       "    <tr>\n",
       "      <th>Vehicle</th>\n",
       "      <td>0.933308</td>\n",
       "      <td>0.000000</td>\n",
       "      <td>1.000000</td>\n",
       "      <td>0.911347</td>\n",
       "      <td>1.000000</td>\n",
       "      <td>1.000000</td>\n",
       "      <td>0.228395</td>\n",
       "      <td>0.978130</td>\n",
       "      <td>1.000000</td>\n",
       "      <td>1.000000</td>\n",
       "      <td>...</td>\n",
       "      <td>1.0</td>\n",
       "      <td>1.0</td>\n",
       "      <td>1.000000</td>\n",
       "      <td>1.0</td>\n",
       "      <td>1.0</td>\n",
       "      <td>1.0</td>\n",
       "      <td>1.0</td>\n",
       "      <td>1.000000</td>\n",
       "      <td>1.000000</td>\n",
       "      <td>0.496528</td>\n",
       "    </tr>\n",
       "    <tr>\n",
       "      <th>Concert</th>\n",
       "      <td>1.000000</td>\n",
       "      <td>1.000000</td>\n",
       "      <td>0.000000</td>\n",
       "      <td>1.000000</td>\n",
       "      <td>0.898902</td>\n",
       "      <td>0.433849</td>\n",
       "      <td>1.000000</td>\n",
       "      <td>1.000000</td>\n",
       "      <td>1.000000</td>\n",
       "      <td>1.000000</td>\n",
       "      <td>...</td>\n",
       "      <td>1.0</td>\n",
       "      <td>1.0</td>\n",
       "      <td>1.000000</td>\n",
       "      <td>1.0</td>\n",
       "      <td>1.0</td>\n",
       "      <td>1.0</td>\n",
       "      <td>1.0</td>\n",
       "      <td>1.000000</td>\n",
       "      <td>1.000000</td>\n",
       "      <td>1.000000</td>\n",
       "    </tr>\n",
       "    <tr>\n",
       "      <th>Video game</th>\n",
       "      <td>0.318106</td>\n",
       "      <td>0.911347</td>\n",
       "      <td>1.000000</td>\n",
       "      <td>0.000000</td>\n",
       "      <td>1.000000</td>\n",
       "      <td>1.000000</td>\n",
       "      <td>0.913920</td>\n",
       "      <td>0.927701</td>\n",
       "      <td>0.975900</td>\n",
       "      <td>1.000000</td>\n",
       "      <td>...</td>\n",
       "      <td>1.0</td>\n",
       "      <td>1.0</td>\n",
       "      <td>0.495413</td>\n",
       "      <td>1.0</td>\n",
       "      <td>1.0</td>\n",
       "      <td>1.0</td>\n",
       "      <td>1.0</td>\n",
       "      <td>0.495413</td>\n",
       "      <td>0.495413</td>\n",
       "      <td>1.000000</td>\n",
       "    </tr>\n",
       "    <tr>\n",
       "      <th>Dance</th>\n",
       "      <td>0.982473</td>\n",
       "      <td>1.000000</td>\n",
       "      <td>0.898902</td>\n",
       "      <td>1.000000</td>\n",
       "      <td>0.000000</td>\n",
       "      <td>0.975309</td>\n",
       "      <td>1.000000</td>\n",
       "      <td>0.986364</td>\n",
       "      <td>1.000000</td>\n",
       "      <td>1.000000</td>\n",
       "      <td>...</td>\n",
       "      <td>1.0</td>\n",
       "      <td>1.0</td>\n",
       "      <td>1.000000</td>\n",
       "      <td>1.0</td>\n",
       "      <td>1.0</td>\n",
       "      <td>1.0</td>\n",
       "      <td>1.0</td>\n",
       "      <td>1.000000</td>\n",
       "      <td>1.000000</td>\n",
       "      <td>1.000000</td>\n",
       "    </tr>\n",
       "  </tbody>\n",
       "</table>\n",
       "<p>5 rows × 943 columns</p>\n",
       "</div>"
      ],
      "text/plain": [
       "               Games   Vehicle   Concert  Video game     Dance  Musician  \\\n",
       "Games       0.000000  0.933308  1.000000    0.318106  0.982473  1.000000   \n",
       "Vehicle     0.933308  0.000000  1.000000    0.911347  1.000000  1.000000   \n",
       "Concert     1.000000  1.000000  0.000000    1.000000  0.898902  0.433849   \n",
       "Video game  0.318106  0.911347  1.000000    0.000000  1.000000  1.000000   \n",
       "Dance       0.982473  1.000000  0.898902    1.000000  0.000000  0.975309   \n",
       "\n",
       "                 Car  Animation  Football      Food      ...        \\\n",
       "Games       0.938655   0.899466  0.607919  0.987205      ...         \n",
       "Vehicle     0.228395   0.978130  1.000000  1.000000      ...         \n",
       "Concert     1.000000   1.000000  1.000000  1.000000      ...         \n",
       "Video game  0.913920   0.927701  0.975900  1.000000      ...         \n",
       "Dance       1.000000   0.986364  1.000000  1.000000      ...         \n",
       "\n",
       "            Hand-to-hand combat  Grape  Green Arrow  Guitar Center  \\\n",
       "Games                       1.0    1.0     0.497409            1.0   \n",
       "Vehicle                     1.0    1.0     1.000000            1.0   \n",
       "Concert                     1.0    1.0     1.000000            1.0   \n",
       "Video game                  1.0    1.0     0.495413            1.0   \n",
       "Dance                       1.0    1.0     1.000000            1.0   \n",
       "\n",
       "            Hair coloring  Hair iron  Hair roller  Half-Life  Halo 3: ODST  \\\n",
       "Games                 1.0        1.0          1.0   0.497409      0.497409   \n",
       "Vehicle               1.0        1.0          1.0   1.000000      1.000000   \n",
       "Concert               1.0        1.0          1.0   1.000000      1.000000   \n",
       "Video game            1.0        1.0          1.0   0.495413      0.495413   \n",
       "Dance                 1.0        1.0          1.0   1.000000      1.000000   \n",
       "\n",
       "            Škoda Octavia  \n",
       "Games            1.000000  \n",
       "Vehicle          0.496528  \n",
       "Concert          1.000000  \n",
       "Video game       1.000000  \n",
       "Dance            1.000000  \n",
       "\n",
       "[5 rows x 943 columns]"
      ]
     },
     "execution_count": 137,
     "metadata": {},
     "output_type": "execute_result"
    }
   ],
   "source": [
    "K_labels_trans = K_labels.transpose()\n",
    "K_labels_new = (K_labels + K_labels_trans)/2\n",
    "K_labels_dist = 1-K_labels_new\n",
    "K_labels_dist.head()"
   ]
  },
  {
   "cell_type": "markdown",
   "metadata": {},
   "source": [
    "# Use linkage() and dendrogram by generating condense matrix"
   ]
  },
  {
   "cell_type": "code",
   "execution_count": 138,
   "metadata": {
    "collapsed": false
   },
   "outputs": [
    {
     "data": {
      "text/plain": [
       "(444153,)"
      ]
     },
     "execution_count": 138,
     "metadata": {},
     "output_type": "execute_result"
    }
   ],
   "source": [
    "import scipy.spatial.distance as ssd\n",
    "# convert the redundant n*n square matrix form into a condensed nC2 array\n",
    "distArray = ssd.squareform(K_labels_dist) # condense dist matrix\n",
    "distArray.shape"
   ]
  },
  {
   "cell_type": "code",
   "execution_count": 139,
   "metadata": {
    "collapsed": false
   },
   "outputs": [],
   "source": [
    "from matplotlib import pyplot as plt\n",
    "from scipy.cluster.hierarchy import dendrogram, linkage\n",
    "import numpy as np\n",
    "Z = linkage(distArray)"
   ]
  },
  {
   "cell_type": "code",
   "execution_count": 140,
   "metadata": {
    "collapsed": false
   },
   "outputs": [
    {
     "data": {
      "image/png": "[encoded data removed]",
      "text/plain": [
       "<matplotlib.figure.Figure at 0x210aca6a358>"
      ]
     },
     "metadata": {},
     "output_type": "display_data"
    }
   ],
   "source": [
    "plt.figure(figsize=(25, 10))\n",
    "plt.title('Hierarchical Clustering Dendrogram')\n",
    "plt.xlabel('sample index')\n",
    "plt.ylabel('distance')\n",
    "dendrogram(\n",
    "    Z,\n",
    "    leaf_rotation=90.,  # rotates the x axis labels\n",
    "    leaf_font_size=8.,  # font size for the x axis labels\n",
    "    p=12,\n",
    "    show_contracted=True,\n",
    ")\n",
    "plt.show()"
   ]
  },
  {
   "cell_type": "code",
   "execution_count": 93,
   "metadata": {
    "collapsed": false
   },
   "outputs": [],
   "source": [
    "def fancy_dendrogram(*args, **kwargs):\n",
    "    max_d = kwargs.pop('max_d', None)\n",
    "#     if max_d and 'color_threshold' not in kwargs:\n",
    "#         kwargs['color_threshold'] = max_d\n",
    "#     annotate_above = kwargs.pop('annotate_above', 0)\n",
    "\n",
    "    ddata = dendrogram(*args, **kwargs)\n",
    "\n",
    "#     if not kwargs.get('no_plot', False):\n",
    "#         plt.title('Hierarchical Clustering Dendrogram (truncated)')\n",
    "#         plt.xlabel('sample index or (cluster size)')\n",
    "#         plt.ylabel('distance')\n",
    "#         for i, d, c in zip(ddata['icoord'], ddata['dcoord'], ddata['color_list']):\n",
    "#             x = 0.5 * sum(i[1:3])\n",
    "#             y = d[1]\n",
    "#             if y > annotate_above:\n",
    "#                 plt.plot(x, y, 'o', c=c)\n",
    "#                 plt.annotate(\"%.3g\" % y, (x, y), xytext=(0, -5),\n",
    "#                              textcoords='offset points',\n",
    "#                              va='top', ha='center')\n",
    "    if max_d:\n",
    "        plt.axhline(y=max_d, c='k')\n",
    "    return ddata"
   ]
  },
  {
   "cell_type": "code",
   "execution_count": 156,
   "metadata": {
    "collapsed": false
   },
   "outputs": [
    {
     "data": {
      "image/png": "[encoded data removed]",
      "text/plain": [
       "<matplotlib.figure.Figure at 0x210b75cbe10>"
      ]
     },
     "metadata": {},
     "output_type": "display_data"
    }
   ],
   "source": [
    "plt.figure(figsize=(25, 10))\n",
    "max_d = 0.4\n",
    "fancy_dendrogram(\n",
    "    Z,\n",
    "#     truncate_mode='lastp',\n",
    "#     p=12,\n",
    "    leaf_rotation=90.,\n",
    "    leaf_font_size=12.,\n",
    "    max_d =max_d\n",
    "#     show_contracted=True,\n",
    "#     annotate_above=10,  # useful in small plots so annotations don't overlap\n",
    ")\n",
    "plt.show()"
   ]
  },
  {
   "cell_type": "markdown",
   "metadata": {},
   "source": [
    "# Clustering"
   ]
  },
  {
   "cell_type": "code",
   "execution_count": 221,
   "metadata": {
    "collapsed": false
   },
   "outputs": [
    {
     "data": {
      "text/plain": [
       "618"
      ]
     },
     "execution_count": 221,
     "metadata": {},
     "output_type": "execute_result"
    }
   ],
   "source": [
    "from scipy.cluster.hierarchy import fcluster\n",
    "# max_d=0.7\n",
    "k = 650\n",
    "# clusters = fcluster(Z, max_d, criterion='distance')\n",
    "clusters = fcluster(Z, k, criterion='maxclust')\n",
    "# clusters\n",
    "numOfClusters = len(set(clusters))\n",
    "numOfClusters"
   ]
  },
  {
   "cell_type": "code",
   "execution_count": 248,
   "metadata": {
    "collapsed": false
   },
   "outputs": [
    {
     "data": {
      "text/plain": [
       "(array([], dtype=int64),)"
      ]
     },
     "execution_count": 248,
     "metadata": {},
     "output_type": "execute_result"
    }
   ],
   "source": [
    "np.where(clusters==619)"
   ]
  },
  {
   "cell_type": "code",
   "execution_count": 253,
   "metadata": {
    "collapsed": true
   },
   "outputs": [
    {
     "data": {
      "text/plain": [
       "array([ 855.,  437.,  867.,  884.,  699.,  765.,  609.,  791.,  808.,\n",
       "        513.,   66.,   95.,  840.,  233.,  506.,  210.,  922.,  543.,\n",
       "        688.,  415.,  551.,  296.,  338.,  529.,  191.,  675.,  555.,\n",
       "        916.,  259.,  381.,  639.,  347.,  144.,  234.,  305.,  366.,\n",
       "        530.,  209.,  101.,  289.,  450.,  850.,  823.,  762.,  796.,\n",
       "        735.,  614.,   60.,  153.,  809.,  504.,  928.,  914.,  616.,\n",
       "        785.,  317.,  217.,  542.,  455.,  451.,  797.,  453.,   65.,\n",
       "        888.,  665.,  206.,  879.,  843.,  676.,  157.,  644.,  494.,\n",
       "        769.,  205.,  560.,  876.,  832.,    4.,  103.,  181.,  698.,\n",
       "         80.,  810.,  619.,  705.,  580.,   58.,  536.,  561.,  533.,\n",
       "        574.,  653.,  550.,  924.,  173.,  633.,  301.,  803.,  656.,\n",
       "          7.,   16.,  204.,  343.,  385.,  546.,  151.,  920.,  783.,\n",
       "        941.,  180.,  895.,  510.,  516.,  813.,  150.,  368.,  163.,\n",
       "        606.,  934.,  763.,  118.,  372.,   24.,   53.,  805.,  630.,\n",
       "        431.,   23.,  326.,  471.,  588.,  197.,   96.,  712.,  235.,\n",
       "        582.,  801.,  228.,  851.,  786.,  192.,  877.,  223.,   27.,\n",
       "        298.,  834.,  866.,  875.,   98.,  567.,  749.,  733.,  817.,\n",
       "        175.,  830.,  203.,  821.,  511.,   15.,   50.,   31.,  177.,\n",
       "        936.,  761.,  429.,  856.,  686.,  195.,  641.,   18.,   28.,\n",
       "        571.,  857.,  921.,  937.,   30.,   89.,  939.,  360.,  224.,\n",
       "        841.,   54.,  600.,  886.,  589.,  202.,  930.,  637.,   77.,\n",
       "         88.,  468.,  430.,   29.,  715.,  130.,  160.,  597.,  498.,\n",
       "        401.,  870.,  148.,  128.,  615.,    5.,   11.,    2.,  490.,\n",
       "        145.,  552.,  837.,  388.,   55.,  232.,  640.,  141.,  261.,\n",
       "        740.,  155.,  833.,  454.,  473.,  164.,  380.,   86.,   91.,\n",
       "        822.,  620.,  883.,  569.,  472.,  739.,  670.,  107.,  751.,\n",
       "        170.,  171.,  889.,  690.,  333.,  697.,  672.,  826.,  119.,\n",
       "        771.,  599.,  618.,  138.,   84.,  911.,   52.,  334.,  839.,\n",
       "         40.,  332.,  926.,  814.,   85.,  931.,  758.,  115.,  124.,\n",
       "        605.,   37.,  135.,   94.,  696.,  422.,   43.,  440.,  174.,\n",
       "        890.,  435.,  436.,  831.,  484.,  610.,  549.,   21.,   63.,\n",
       "        172.,  772.,  760.,   73.,  704.,  493.,  237.,  505.,  714.,\n",
       "        222.,  917.,  176.,   64.,  186.,  312.,  221.,  918.,  218.,\n",
       "        507.,  711.,  892.,  893.,  689.,  864.,  220.,  894.,   39.,\n",
       "         62.,   71.,  114.,    9.,  781.,  860.,  846.,  230.,  212.,\n",
       "        188.,  899.,  122.,  612.,  112.,  900.,  745.,  770.,  159.,\n",
       "        683.,  789.,  189.,  836.,  302.,  878.,  367.,  682.,  861.,\n",
       "        906.,  126.,  139.,   72.,  236.,  216.,  520.,    6.,   20.,\n",
       "         70.,   45.,  476.,  116.,  723.,  104.,  275.,  859.,  724.,\n",
       "        865.,  586.,  825.,  862.,  872.,  219.,  863.,  200.,  208.,\n",
       "        766.,  744.,  701.,  449.,  382.,  147.,  625.,  798.,  908.,\n",
       "        100.,  168.,  167.,  799.,  187.,  158.,  179.,  182.,  694.,\n",
       "        613.,  424.,  722.,   75.,  891.,  842.,  133.,  671.,  140.,\n",
       "         26.,  117.,  728.,  666.,  752.,   90.,  578.,  577.,  898.,\n",
       "        387.,  869.,  674.,  573.,  108.,  251.,  229.,  553.,  111.,\n",
       "        776.,  887.,  286.,   83.,  897.,  500.,  819.,  213.,  593.,\n",
       "        125.,   14.,   51.,   69.,   57.,  495.,  668.,  677.,  731.,\n",
       "        515.,  873.,  152.,  113.,  730.,   49.,   97.,  932.,   38.,\n",
       "         93.,  792.,    0.,    3.,   19.,  136.,   79.,  927.,  804.,\n",
       "        874.,  680.,  907.,  935.,   41.,   67.,  643.,  512.,  933.,\n",
       "        847.,  165.,  590.,  581.,  829.,   25.,  325.,   61.,   42.,\n",
       "        492.,   59.,  732.,   48.,  942.,   22.,   46.,   33.,   44.,\n",
       "         68.,    8.,   56.,  905.,  673.,  780.,  767.,   17.,  844.,\n",
       "        469.,  720.,  518.,  853.,   35.,   32.,  726.,  854.,  790.,\n",
       "        849.,  407.,  660.,  635.,  583.,  201.,  262.,  807.,  779.,\n",
       "        713.,  260.,  642.,  773.,  940.,  214.,  782.,  909.,  778.,\n",
       "        400.,  412.,  488.,  463.,  669.,  531.,  925.,  852.,  568.,\n",
       "        913.,   13.,  708.,   10.,  563.,  835.,  727.,  247.,  359.,\n",
       "        691.,  748.,  624.,  912.,  623.,  811.,  532.,  517.,  741.,\n",
       "        706.,  456.,  611.,  700.,  901.,  271.,  313.,  361.,  824.,\n",
       "        406.,  562.,  547.,  631.,  756.,  910.,  386.,  848.,  477.,\n",
       "        452.,  535.,  297.,  324.,  354.,  279.,  127.,  178.,  211.,\n",
       "        184.,  316.,  319.,  207.,  245.,  377.,  183.,  249.,  355.,\n",
       "        323.,  353.,  294.,  904.,  268.,  919.,  929.,  489.,  881.,\n",
       "        806.,  537.,  800.,  544.,  545.,  558.,  584.,  604.,  617.,\n",
       "        621.,  759.,  755.,  634.,  649.,  664.,  687.,  693.,  718.,\n",
       "        815.,  524.,  514.,  880.,  395.,  868.,  396.,  433.,  434.,\n",
       "        457.,  458.,  460.,  465.,  467.,  480.,  483.,  838.,  485.,\n",
       "        725.,  497.,  502.,  828.,  509.,  522.])"
      ]
     },
     "execution_count": 253,
     "metadata": {},
     "output_type": "execute_result"
    }
   ],
   "source": [
    "# get root node in clusters\n",
    "import sys\n",
    "import numpy as np\n",
    "\n",
    "roots = np.zeros(numOfClusters)\n",
    "\n",
    "for i in range(1, numOfClusters+1):\n",
    "    tmp_cluster = np.where(clusters==i)\n",
    "#     print(tmp_cluster)\n",
    "    for j in tmp_cluster[0]:\n",
    "        aggre_dist = 0\n",
    "        min_dist = sys.float_info.max\n",
    "        for k in tmp_cluster[0]:\n",
    "            aggre_dist = aggre_dist + K_labels_dist.iloc[j][k]\n",
    "        if(aggre_dist < min_dist):\n",
    "            min_dist = aggre_dist\n",
    "            roots[i-1] = j\n",
    "\n",
    "roots"
   ]
  },
  {
   "cell_type": "markdown",
   "metadata": {},
   "source": [
    "# Basic model"
   ]
  },
  {
   "cell_type": "code",
   "execution_count": 254,
   "metadata": {
    "collapsed": false
   },
   "outputs": [
    {
     "name": "stdout",
     "output_type": "stream",
     "text": [
      "(array([0, 0, 0, 0], dtype=int64), array([ 12,  26, 215, 944], dtype=int64))\n"
     ]
    }
   ],
   "source": [
    "from sklearn.neural_network import MLPClassifier\n",
    "from sklearn.neural_network import MLPRegressor\n",
    "\n",
    "X = mean_audio #[[0., 0.], [1., 1.]]\n",
    "y = labels_for_MLP #[[0, 1, 1], [1, 1, 0], [1, 0, 0]]\n",
    "clf = MLPClassifier(solver='lbfgs', alpha=1e-5, hidden_layer_sizes=(15,), random_state=1)\n",
    "clf.fit(X, y)                         \n",
    "# clf.predict([[2., 2.], [-1., -2.]])\n",
    "# clf.predict([mean_audio[8]])\n",
    "\n",
    "a = clf.predict([mean_audio[8]])\n",
    "\n",
    "# b = a[0]>0.15 #index 2885\n",
    "\n",
    "print(np.nonzero(a))"
   ]
  },
  {
   "cell_type": "markdown",
   "metadata": {},
   "source": [
    "# Trying to modify the prediction by adding related labels"
   ]
  },
  {
   "cell_type": "code",
   "execution_count": 329,
   "metadata": {
    "collapsed": false
   },
   "outputs": [
    {
     "name": "stdout",
     "output_type": "stream",
     "text": [
      "Recipe\n",
      "Garlic\n",
      "Food\n",
      "Hamburger\n",
      "Eating\n",
      "Cooking\n"
     ]
    }
   ],
   "source": [
    "b = np.nonzero(a)\n",
    "# print(b[1])\n",
    "\n",
    "res = set()\n",
    "for label in b[1]:\n",
    "    res.add(label)\n",
    "    label_name = label_mapping[label]\n",
    "    unique_idx = all_unique_labels.index(label_name)\n",
    "    tmp_cluster = clusters[unique_idx]\n",
    "    root_label = (int)(roots[tmp_cluster-1])\n",
    "    addition_label_name = all_unique_labels[root_label]\n",
    "    res.add(list(label_mapping.values()).index(addition_label_name))\n",
    "\n",
    "for i in res:\n",
    "    print(label_mapping[i])"
   ]
  },
  {
   "cell_type": "markdown",
   "metadata": {},
   "source": [
    "# Result so far:"
   ]
  },
  {
   "cell_type": "code",
   "execution_count": 335,
   "metadata": {
    "collapsed": false,
    "scrolled": true
   },
   "outputs": [
    {
     "name": "stdout",
     "output_type": "stream",
     "text": [
      "--Original labels:\n",
      "Vegetable\n",
      "Hamburger\n",
      "Cooking\n",
      "Food\n",
      "Eating\n",
      "\n",
      "--Basic model predicting labels:\n",
      "Food\n",
      "Cooking\n",
      "Eating\n",
      "Hamburger\n",
      "\n",
      "--Modified model predicting labels:\n",
      "Recipe\n",
      "Garlic\n",
      "Food\n",
      "Hamburger\n",
      "Eating\n",
      "Cooking\n"
     ]
    }
   ],
   "source": [
    "print('--Original labels:')\n",
    "\n",
    "for i in labels[8]:\n",
    "    print(label_mapping[i])\n",
    "\n",
    "print()\n",
    "\n",
    "print('--Basic model predicting labels:')\n",
    "\n",
    "for i in b[1]:\n",
    "    print(label_mapping[i])\n",
    "\n",
    "print()\n",
    "\n",
    "print('--Modified model predicting labels:')\n",
    "\n",
    "for i in res:\n",
    "    print(label_mapping[i])\n"
   ]
  }
 ],
 "metadata": {
  "kernelspec": {
   "display_name": "Python 3",
   "language": "python",
   "name": "python3"
  },
  "language_info": {
   "codemirror_mode": {
    "name": "ipython",
    "version": 3
   },
   "file_extension": ".py",
   "mimetype": "text/x-python",
   "name": "python",
   "nbconvert_exporter": "python",
   "pygments_lexer": "ipython3",
   "version": "3.5.2"
  }
 },
 "nbformat": 4,
 "nbformat_minor": 2
}

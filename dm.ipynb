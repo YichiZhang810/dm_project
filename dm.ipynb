{
 "cells": [
  {
   "cell_type": "code",
   "execution_count": 2,
   "metadata": {
    "collapsed": false
   },
   "outputs": [
    {
     "data": {
      "text/plain": [
       "1169"
      ]
     },
     "execution_count": 2,
     "metadata": {},
     "output_type": "execute_result"
    }
   ],
   "source": [
    "import tensorflow as tf\n",
    "import pandas as pd\n",
    "import numpy as np\n",
    "label_mapping = pd.Series.from_csv('label_names.csv',header=0).to_dict()\n",
    "n = len(label_mapping)\n",
    "\n",
    "video_lvl_record = \"train-0.tfrecord\"\n",
    "\n",
    "vid_ids = []\n",
    "labels = []\n",
    "labels_for_MLP = []\n",
    "mean_rgb = []\n",
    "mean_audio = []\n",
    "\n",
    "i=0\n",
    "\n",
    "for example in tf.python_io.tf_record_iterator(video_lvl_record):\n",
    "    tf_example = tf.train.Example.FromString(example) # get visualized TFRecord\n",
    "    vid_ids.append(tf_example.features.feature['video_id'].bytes_list.value[0].decode(encoding='UTF-8'))\n",
    "    \n",
    "    array = np.zeros(n)\n",
    "    tmp_labels=tf_example.features.feature['labels'].int64_list.value\n",
    "    tmp_labels_after_pp = []\n",
    "    for x in tmp_labels:\n",
    "        if x<4716:\n",
    "            tmp_labels_after_pp.append(x)\n",
    "    labels.append(tmp_labels_after_pp)\n",
    "    array[tmp_labels]=1\n",
    "    labels_for_MLP.append(array)\n",
    "    \n",
    "    mean_rgb.append(tf_example.features.feature['mean_rgb'].float_list.value)\n",
    "    mean_audio.append(tf_example.features.feature['mean_audio'].float_list.value)\n",
    "\n",
    "#     i+=1\n",
    "#     if i>0:\n",
    "#         break\n",
    "    \n",
    "len(labels_for_MLP)"
   ]
  },
  {
   "cell_type": "code",
   "execution_count": 3,
   "metadata": {
    "collapsed": false
   },
   "outputs": [
    {
     "data": {
      "text/plain": [
       "array([[ 0.06504771,  0.04668511,  0.00731435, ...,  0.08382054,\n",
       "         0.02078059, -0.03572714]])"
      ]
     },
     "execution_count": 3,
     "metadata": {},
     "output_type": "execute_result"
    }
   ],
   "source": [
    "from sklearn.neural_network import MLPClassifier\n",
    "from sklearn.neural_network import MLPRegressor\n",
    "\n",
    "X = mean_audio #[[0., 0.], [1., 1.]]\n",
    "y = labels_for_MLP #[[0, 1, 1], [1, 1, 0], [1, 0, 0]]\n",
    "clf = MLPRegressor(solver='lbfgs', alpha=1e-5, hidden_layer_sizes=(15,), random_state=1)\n",
    "clf.fit(X, y)                         \n",
    "# clf.predict([[2., 2.], [-1., -2.]])\n",
    "clf.predict([mean_audio[8]])\n"
   ]
  },
  {
   "cell_type": "code",
   "execution_count": 5,
   "metadata": {
    "collapsed": false
   },
   "outputs": [
    {
     "name": "stdout",
     "output_type": "stream",
     "text": [
      "(array([2885], dtype=int64),)\n"
     ]
    }
   ],
   "source": [
    "a = clf.predict([mean_audio[8]])\n",
    "\n",
    "b = a[0]>0.15 #index 2885\n",
    "\n",
    "print(np.nonzero(b))"
   ]
  }
 ],
 "metadata": {
  "kernelspec": {
   "display_name": "Python 3",
   "language": "python",
   "name": "python3"
  },
  "language_info": {
   "codemirror_mode": {
    "name": "ipython",
    "version": 3
   },
   "file_extension": ".py",
   "mimetype": "text/x-python",
   "name": "python",
   "nbconvert_exporter": "python",
   "pygments_lexer": "ipython3",
   "version": "3.5.2"
  }
 },
 "nbformat": 4,
 "nbformat_minor": 2
}
